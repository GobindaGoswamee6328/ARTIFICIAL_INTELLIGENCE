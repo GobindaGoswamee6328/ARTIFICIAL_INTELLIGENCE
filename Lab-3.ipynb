{
 "cells": [
  {
   "cell_type": "code",
   "execution_count": 2,
   "id": "5f3be14f",
   "metadata": {},
   "outputs": [
    {
     "name": "stdout",
     "output_type": "stream",
     "text": [
      "1\n"
     ]
    }
   ],
   "source": [
    "# Function:\n",
    "\n",
    "def SumList(L1):\n",
    "    return 1\n",
    "    \n",
    "\n",
    "List1 = {10,20,30,40,50}\n",
    "sumlist = SumList(List1)\n",
    "print(sumlist)"
   ]
  },
  {
   "cell_type": "code",
   "execution_count": 31,
   "id": "c4c50f5c",
   "metadata": {},
   "outputs": [
    {
     "name": "stdout",
     "output_type": "stream",
     "text": [
      "1\n"
     ]
    }
   ],
   "source": [
    "def Sumlist(L1):\n",
    "    s = 0\n",
    "    for x in range(len(L1)):\n",
    "        s = s + L1[x]\n",
    "    \n",
    "    return s\n",
    "    \n",
    "List1 = [10,20,30,40,50]\n",
    "sumList = SumList(List1)\n",
    "print(sumList)\n"
   ]
  },
  {
   "cell_type": "code",
   "execution_count": 34,
   "id": "acddc2b9",
   "metadata": {},
   "outputs": [
    {
     "name": "stdout",
     "output_type": "stream",
     "text": [
      "[1100.0, 1320.0, 1650.0, 2090.0, 2200.0, 2750.0]\n"
     ]
    }
   ],
   "source": [
    "def reviw_salary(salary):\n",
    "    new_salary = []\n",
    "    #10% increment of salary:\n",
    "    for i in range(len(salary)):\n",
    "        new_salary.append(salary[i]+salary[i]*0.1)\n",
    "    \n",
    "    \n",
    "    \n",
    "    return new_salary\n",
    "\n",
    "salary = [1000,1200,1500,1900,2000,2500]\n",
    "newSalary = reviw_salary(salary)\n",
    "print(newSalary)"
   ]
  },
  {
   "cell_type": "code",
   "execution_count": 42,
   "id": "1eea032a",
   "metadata": {},
   "outputs": [
    {
     "name": "stdout",
     "output_type": "stream",
     "text": [
      "[0, 0.2, 0.4, 0.6000000000000001, 0.8, 1]\n"
     ]
    }
   ],
   "source": [
    "def Linspace(lower,upper,n):\n",
    "    point = []\n",
    "    del_h = (upper-lower)/n\n",
    "    point.append(lower)\n",
    "    \n",
    "    for i in range(1,n):\n",
    "        point.append(point [i-1] + del_h)\n",
    "    \n",
    "    point.append(upper)\n",
    "    return point\n",
    "xpoints = Linspace(0,1,5)\n",
    "print(xpoints)"
   ]
  },
  {
   "cell_type": "code",
   "execution_count": 46,
   "id": "99054efe",
   "metadata": {},
   "outputs": [
    {
     "name": "stdout",
     "output_type": "stream",
     "text": [
      "[-5, -4.5, -4.0, -3.5, -3.0, -2.5, -2.0, -1.5, -1.0, -0.5, 0.0, 0.5, 1.0, 1.5, 2.0, 2.5, 3.0, 3.5, 4.0, 4.5, 5]\n",
      "[25, 20.25, 16.0, 12.25, 9.0, 6.25, 4.0, 2.25, 1.0, 0.25, 0.0, 0.25, 1.0, 2.25, 4.0, 6.25, 9.0, 12.25, 16.0, 20.25, 25]\n"
     ]
    }
   ],
   "source": [
    "def Linspace(lower,upper,n):\n",
    "    point = []\n",
    "    del_h = (upper-lower)/n\n",
    "    point.append(lower)\n",
    "    \n",
    "    for i in range(1,n):\n",
    "        point.append(point [i-1] + del_h)\n",
    "    \n",
    "    point.append(upper)\n",
    "    return point\n",
    "\n",
    "def f(x):\n",
    "    ypoint= []\n",
    "    for i in range(len(x)):\n",
    "         ypoint.append(x[i]**2)\n",
    "    \n",
    "    return ypoint\n",
    "    \n",
    "xpoints = Linspace(-5,5,20)\n",
    "ypoints = f(xpoints)\n",
    "print(xpoints)\n",
    "print(ypoints)\n"
   ]
  },
  {
   "cell_type": "code",
   "execution_count": 62,
   "id": "7ac63b85",
   "metadata": {},
   "outputs": [
    {
     "name": "stdout",
     "output_type": "stream",
     "text": [
      "[10, 20, 30, 40, 50, 60, 70, 80, 90, 100]\n",
      "[50, 60, 70, 80, 90, 100, 0, 0, 0, 0]\n"
     ]
    }
   ],
   "source": [
    "def shiftLeft(L,k):\n",
    "    for j in range(k):\n",
    "        for i in range (1,len(L)):\n",
    "            L[i-1] = L[i]\n",
    "    for i in range(len(L)-1,len(L)-1-k,-1):\n",
    "        L[i] = 0\n",
    "    return L\n",
    "\n",
    "List1 = [10,20,30,40,50,60,70,80,90,100]\n",
    "print(List1)\n",
    "n_List = shiftLeft(List1,4)\n",
    "\n",
    "print(n_List)"
   ]
  },
  {
   "cell_type": "code",
   "execution_count": 65,
   "id": "c0ecde6e",
   "metadata": {},
   "outputs": [
    {
     "name": "stdout",
     "output_type": "stream",
     "text": [
      "8.0\n"
     ]
    }
   ],
   "source": [
    "import math as m\n",
    "print(m.pow(2,3))"
   ]
  },
  {
   "cell_type": "code",
   "execution_count": 66,
   "id": "bff3438e",
   "metadata": {},
   "outputs": [
    {
     "name": "stdout",
     "output_type": "stream",
     "text": [
      "60.0\n"
     ]
    }
   ],
   "source": [
    "List = [10,20,30]\n",
    "print(m.fsum(List))"
   ]
  },
  {
   "cell_type": "code",
   "execution_count": 67,
   "id": "43d2717f",
   "metadata": {},
   "outputs": [
    {
     "name": "stdout",
     "output_type": "stream",
     "text": [
      "7.38905609893065\n"
     ]
    }
   ],
   "source": [
    "print (m.exp(2))"
   ]
  },
  {
   "cell_type": "code",
   "execution_count": 68,
   "id": "50c46a95",
   "metadata": {},
   "outputs": [
    {
     "name": "stdout",
     "output_type": "stream",
     "text": [
      "100.0\n"
     ]
    }
   ],
   "source": [
    "a = -100\n",
    "print(m.fabs(a))"
   ]
  }
 ],
 "metadata": {
  "kernelspec": {
   "display_name": "Python 3 (ipykernel)",
   "language": "python",
   "name": "python3"
  },
  "language_info": {
   "codemirror_mode": {
    "name": "ipython",
    "version": 3
   },
   "file_extension": ".py",
   "mimetype": "text/x-python",
   "name": "python",
   "nbconvert_exporter": "python",
   "pygments_lexer": "ipython3",
   "version": "3.11.4"
  }
 },
 "nbformat": 4,
 "nbformat_minor": 5
}
