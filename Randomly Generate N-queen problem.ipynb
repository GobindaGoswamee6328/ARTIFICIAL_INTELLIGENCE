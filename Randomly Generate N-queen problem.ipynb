{
 "cells": [
  {
   "cell_type": "code",
   "execution_count": 23,
   "id": "75c8acce",
   "metadata": {},
   "outputs": [
    {
     "name": "stdout",
     "output_type": "stream",
     "text": [
      "Initial Matrix:\n",
      "[0, 0, 0, 0]\n",
      "[0, 0, 0, 0]\n",
      "[0, 0, 0, 0]\n",
      "[0, 0, 0, 0]\n",
      "\n",
      "Randomly Assigned Queens:\n",
      "[1, 0, 0, 0]\n",
      "[0, 0, 0, 1]\n",
      "[0, 0, 0, 1]\n",
      "[0, 0, 1, 0]\n",
      "\n",
      "Queen at (0, 0) is attacked by Queen at (0, 0) diagonally.\n",
      "Queen at (0, 0) is attacked by Queen at (1, 1) diagonally.\n",
      "Queen at (0, 0) is attacked by Queen at (2, 2) diagonally.\n",
      "Queen at (0, 0) is attacked by Queen at (3, 3) diagonally.\n",
      "Queen at (1, 3) is attacked by Queen at (2, 3) vertically.\n",
      "Queen at (2, 3) is attacked by Queen at (1, 3) vertically.\n",
      "Queen at (3, 2) is attacked by Queen at (2, 1) diagonally.\n"
     ]
    }
   ],
   "source": [
    "import random\n",
    "\n",
    "def createMatrix(n):\n",
    "    adj = []\n",
    "    for i in range(n):\n",
    "        row = []\n",
    "        for j in range(n):\n",
    "            row.append(0)\n",
    "        adj.append(row)\n",
    "    return adj\n",
    "\n",
    "def printMatrix(M):\n",
    "    for i in M:\n",
    "        print(i, end=\"\\n\")\n",
    "    print()\n",
    "\n",
    "def assignQueen(Q):\n",
    "    n = len(Q)\n",
    "    for i in range(n):\n",
    "        j = random.randint(0, n - 1)\n",
    "        Q[i][j] = 1\n",
    "    return Q\n",
    "\n",
    "def isAttack(Q):\n",
    "    n = len(Q)\n",
    "    for i in range(n):\n",
    "        for j in range(n):\n",
    "            if Q[i][j] == 1:\n",
    "                # Check for attacks horizontally, vertically, and diagonally\n",
    "                for k in range(n):\n",
    "                    if Q[i][k] == 1 and k != j:\n",
    "                        print(f\"Queen at ({i}, {j}) is attacked by Queen at ({i}, {k}) horizontally.\")\n",
    "                    if Q[k][j] == 1 and k != i:\n",
    "                        print(f\"Queen at ({i}, {j}) is attacked by Queen at ({k}, {j}) vertically.\")\n",
    "\n",
    "                        # Diagonal attack check\n",
    "                    for l in range(n):\n",
    "                        if (\n",
    "                            (i + l == k and j + l == l) or\n",
    "                            (i - l == k and j - l == l) or\n",
    "                            (i + l == k and j - l == l) or\n",
    "                            (i - l == k and j + l == l)\n",
    "                        ):\n",
    "                            print(f\"Queen at ({i}, {j}) is attacked by Queen at ({k}, {l}) diagonally.\")\n",
    "                            break\n",
    "\n",
    "Q = createMatrix(4)\n",
    "print(\"Initial Matrix:\")\n",
    "printMatrix(Q)\n",
    "\n",
    "Q = assignQueen(Q)\n",
    "print(\"Randomly Assigned Queens:\")\n",
    "printMatrix(Q)\n",
    "\n",
    "isAttack(Q)"
   ]
  }
 ],
 "metadata": {
  "kernelspec": {
   "display_name": "Python 3 (ipykernel)",
   "language": "python",
   "name": "python3"
  },
  "language_info": {
   "codemirror_mode": {
    "name": "ipython",
    "version": 3
   },
   "file_extension": ".py",
   "mimetype": "text/x-python",
   "name": "python",
   "nbconvert_exporter": "python",
   "pygments_lexer": "ipython3",
   "version": "3.11.4"
  }
 },
 "nbformat": 4,
 "nbformat_minor": 5
}
