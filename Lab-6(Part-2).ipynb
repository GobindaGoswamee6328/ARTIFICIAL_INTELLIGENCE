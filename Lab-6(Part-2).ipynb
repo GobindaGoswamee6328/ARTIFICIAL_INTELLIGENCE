{
 "cells": [
  {
   "cell_type": "markdown",
   "id": "5e9fec01",
   "metadata": {},
   "source": [
    "# Queue:"
   ]
  },
  {
   "cell_type": "code",
   "execution_count": 1,
   "id": "c0a6cf94",
   "metadata": {},
   "outputs": [
    {
     "name": "stdout",
     "output_type": "stream",
     "text": [
      "Initial queue\n",
      "['a', 'b', 'c']\n",
      "\n",
      "Elements dequeued from queue\n",
      "a\n",
      "b\n",
      "c\n",
      "\n",
      "Queue after removing elements\n",
      "[]\n"
     ]
    }
   ],
   "source": [
    "\n",
    "queue = [] \n",
    "\n",
    "queue.append('a') \n",
    "queue.append('b') \n",
    "queue.append('c') \n",
    "\n",
    "print(\"Initial queue\") \n",
    "print(queue) \n",
    "\n",
    "print(\"\\nElements dequeued from queue\") \n",
    "print(queue.pop(0)) \n",
    "print(queue.pop(0)) \n",
    "print(queue.pop(0)) \n",
    "\n",
    "print(\"\\nQueue after removing elements\") \n",
    "print(queue)"
   ]
  },
  {
   "cell_type": "markdown",
   "id": "8930e1d1",
   "metadata": {},
   "source": [
    "# Priority Queue:"
   ]
  },
  {
   "cell_type": "code",
   "execution_count": 3,
   "id": "fc2f9919",
   "metadata": {},
   "outputs": [
    {
     "name": "stdout",
     "output_type": "stream",
     "text": [
      "12 1 14 7\n",
      "14\n",
      "12\n",
      "7\n",
      "1\n"
     ]
    }
   ],
   "source": [
    " class PriorityQueue(object):\n",
    "\tdef __init__(self):\n",
    "\t\tself.queue = []\n",
    "\n",
    "\tdef __str__(self):\n",
    "\t\treturn ' '.join([str(i) for i in self.queue])\n",
    "\n",
    "\tdef isEmpty(self):\n",
    "\t\treturn len(self.queue) == 0\n",
    "\n",
    "\tdef insert(self, data):\n",
    "\t\tself.queue.append(data)\n",
    "\n",
    "\tdef delete(self):\n",
    "\t\ttry:\n",
    "\t\t\tmax_val = 0\n",
    "\t\t\tfor i in range(len(self.queue)):\n",
    "\t\t\t\tif self.queue[i] > self.queue[max_val]:\n",
    "\t\t\t\t\tmax_val = i\n",
    "\t\t\titem = self.queue[max_val]\n",
    "\t\t\tdel self.queue[max_val]\n",
    "\t\t\treturn item\n",
    "\t\texcept IndexError:\n",
    "\t\t\tprint()\n",
    "\t\t\texit()\n",
    "\n",
    "if __name__ == '__main__':\n",
    "\tmyQueue = PriorityQueue()\n",
    "\tmyQueue.insert(12)\n",
    "\tmyQueue.insert(1)\n",
    "\tmyQueue.insert(14)\n",
    "\tmyQueue.insert(7)\n",
    "\tprint(myQueue)\t\t \n",
    "\twhile not myQueue.isEmpty():\n",
    "\t\tprint(myQueue.delete()) \n"
   ]
  }
 ],
 "metadata": {
  "kernelspec": {
   "display_name": "Python 3 (ipykernel)",
   "language": "python",
   "name": "python3"
  },
  "language_info": {
   "codemirror_mode": {
    "name": "ipython",
    "version": 3
   },
   "file_extension": ".py",
   "mimetype": "text/x-python",
   "name": "python",
   "nbconvert_exporter": "python",
   "pygments_lexer": "ipython3",
   "version": "3.11.4"
  }
 },
 "nbformat": 4,
 "nbformat_minor": 5
}
