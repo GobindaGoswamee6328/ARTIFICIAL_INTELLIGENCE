{
 "cells": [
  {
   "cell_type": "markdown",
   "id": "35553ee6",
   "metadata": {},
   "source": [
    "# Adjacency Matrix for weighted Graph"
   ]
  },
  {
   "cell_type": "code",
   "execution_count": 16,
   "id": "204782fd",
   "metadata": {},
   "outputs": [
    {
     "name": "stdout",
     "output_type": "stream",
     "text": [
      "[[0, 1, 3], [0, 3, 7], [0, 4, 8], [1, 2, 1], [1, 3, 4], [2, 3, 2], [3, 4, 3]] 5 7\n",
      "[0, 3, 0, 7, 8]\n",
      "[3, 0, 1, 4, 0]\n",
      "[0, 1, 0, 2, 0]\n",
      "[7, 4, 2, 0, 3]\n",
      "[8, 0, 0, 3, 0]\n"
     ]
    }
   ],
   "source": [
    "def readGraphData(file):\n",
    "    f=open(file,\"r\")\n",
    "\n",
    "    graph=[]\n",
    "    vertex_and_edge=f.readline()\n",
    "    vertex = int(vertex_and_edge.split()[0])\n",
    "    edge = int(vertex_and_edge.split()[1])\n",
    "    for line in f.readlines():\n",
    "        row=[]\n",
    "        row.append(int(line.split()[0]))\n",
    "        row.append(int(line.split()[1]))\n",
    "        row.append(int(line.split()[2]))\n",
    "        graph.append(row)\n",
    "    return graph, vertex, edge\n",
    "\n",
    "\n",
    "def createMatrix(vertex):\n",
    "    adj=[]\n",
    "    for i in range(vertex):\n",
    "        row=[]\n",
    "        for j in range(vertex):\n",
    "            row.append(0)\n",
    "        adj.append(row)\n",
    "    return adj\n",
    "\n",
    "def printMatrix(M):\n",
    "    for i in M:\n",
    "        print(i,end=\"\\n\")\n",
    "\n",
    "\n",
    "def addEdges(graphData,Matrix):\n",
    "    for i in range(len(graphData)):\n",
    "        edge=graphData[i]\n",
    "        u=edge[0]\n",
    "        v=edge[1]\n",
    "        w=edge[2]\n",
    "        Matrix[u][v]=w\n",
    "        Matrix[v][u]=w\n",
    "    return Matrix\n",
    "\n",
    "def UCS\n",
    "data,v,e = readGraphData(\"weighted-graph.txt\")\n",
    "print(data,v,e)\n",
    "M= createMatrix(v)\n",
    "#printMatrix(M)\n",
    "Matrix=addEdges(data,M)\n",
    "printMatrix(Matrix)"
   ]
  },
  {
   "cell_type": "markdown",
   "id": "3292872b",
   "metadata": {},
   "source": [
    "# Adjacency List for weighted Graph"
   ]
  },
  {
   "cell_type": "code",
   "execution_count": 20,
   "id": "bcaa96ef",
   "metadata": {},
   "outputs": [
    {
     "name": "stdout",
     "output_type": "stream",
     "text": [
      "[[0, 1, 3], [0, 3, 7], [0, 4, 8], [1, 2, 1], [1, 3, 4], [2, 3, 2], [3, 4, 3]] 5 7\n",
      "0->  [(1, 3), (3, 7), (4, 8)]\n",
      "1->  [(0, 3), (2, 1), (3, 4)]\n",
      "2->  [(1, 1), (3, 2)]\n",
      "3->  [(0, 7), (1, 4), (2, 2), (4, 3)]\n",
      "4->  [(0, 8), (3, 3)]\n"
     ]
    }
   ],
   "source": [
    "def readGraphData(file):\n",
    "    f=open(file,\"r\")\n",
    "\n",
    "    graph=[]\n",
    "    vertex_and_edge=f.readline()\n",
    "    vertex = int(vertex_and_edge.split()[0])\n",
    "    edge = int(vertex_and_edge.split()[1])\n",
    "    for line in f.readlines():\n",
    "        row=[]\n",
    "        row.append(int(line.split()[0]))\n",
    "        row.append(int(line.split()[1]))\n",
    "        row.append(int(line.split()[2]))\n",
    "        graph.append(row)\n",
    "    return graph, vertex, edge\n",
    "\n",
    "def adjacencyList(data,vertex):\n",
    "    adj=dict()\n",
    "\n",
    "    for i in range(vertex):\n",
    "        adj[i]=[]\n",
    "    #print(adj)\n",
    "\n",
    "    for e in range(len(data)):\n",
    "        u=data[e][0]\n",
    "        v=data[e][1]\n",
    "        w=data[e][2]\n",
    "        adj[u].append((v,w))\n",
    "        adj[v].append((u,w))\n",
    "    return adj\n",
    "\n",
    "def printAdj(adj,vertex):\n",
    "    for i in range(vertex):\n",
    "        print(str(i)+\"-> \",end=\" \")\n",
    "        print(adj[i])\n",
    "    \n",
    "data,v,e = readGraphData(\"weighted-graph.txt\")\n",
    "print(data,v,e)\n",
    "adj=adjacencyList(data,v)\n",
    "printAdj(adj,v)"
   ]
  }
 ],
 "metadata": {
  "kernelspec": {
   "display_name": "Python 3 (ipykernel)",
   "language": "python",
   "name": "python3"
  },
  "language_info": {
   "codemirror_mode": {
    "name": "ipython",
    "version": 3
   },
   "file_extension": ".py",
   "mimetype": "text/x-python",
   "name": "python",
   "nbconvert_exporter": "python",
   "pygments_lexer": "ipython3",
   "version": "3.9.13"
  }
 },
 "nbformat": 4,
 "nbformat_minor": 5
}
