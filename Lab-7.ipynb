{
 "cells": [
  {
   "cell_type": "markdown",
   "id": "96b5c965",
   "metadata": {},
   "source": [
    "# Graph as Adjacency Matrix"
   ]
  },
  {
   "cell_type": "code",
   "execution_count": 8,
   "id": "ef08b477",
   "metadata": {},
   "outputs": [
    {
     "name": "stdout",
     "output_type": "stream",
     "text": [
      "[[6, 9], [0, 1], [0, 2], [1, 2], [1, 3], [2, 3], [3, 4], [4, 5], [4, 0], [4, 1]]\n",
      "6 9\n",
      "[0, 0, 0, 0, 0, 0]\n",
      "[0, 0, 0, 0, 0, 0]\n",
      "[0, 0, 0, 0, 0, 0]\n",
      "[0, 0, 0, 0, 0, 0]\n",
      "[0, 0, 0, 0, 0, 0]\n",
      "[0, 0, 0, 0, 0, 0]\n",
      "\n",
      "[0, 1, 1, 0, 0, 0]\n",
      "[0, 0, 1, 1, 0, 0]\n",
      "[0, 0, 0, 1, 0, 0]\n",
      "[0, 0, 0, 0, 1, 0]\n",
      "[1, 1, 0, 0, 0, 1]\n",
      "[0, 0, 0, 0, 0, 0]\n"
     ]
    }
   ],
   "source": [
    "def readGraphData(file):\n",
    "    f=open(file,\"r\")\n",
    "\n",
    "    graph=[]\n",
    "\n",
    "    for line in f.readlines():\n",
    "        row=[]\n",
    "        row.append(int(line.split()[0]))\n",
    "        row.append(int(line.split()[1]))\n",
    "        graph.append(row)\n",
    "    return graph\n",
    "\n",
    "\n",
    "def createMatrix(vertex):\n",
    "    adj=[]\n",
    "    for i in range(vertex):\n",
    "        row=[]\n",
    "        for j in range(vertex):\n",
    "            row.append(0)\n",
    "        adj.append(row)\n",
    "    return adj\n",
    "\n",
    "def printMatrix(M):\n",
    "    for i in M:\n",
    "        print(i,end=\"\\n\")\n",
    "\n",
    "\n",
    "def addEdges(graphData,Matrix):\n",
    "    for i in range(1,len(graphData)):\n",
    "        edge=graphData[i]\n",
    "        u=edge[0]\n",
    "        v=edge[1]\n",
    "        Matrix[u][v]=1\n",
    "        #Matrix[v][u]=1\n",
    "    return Matrix\n",
    "        \n",
    "data = readGraphData(\"graph.txt\")\n",
    "print(data)\n",
    "\n",
    "vertex=data[0][0]\n",
    "edges=data[0][1]\n",
    "print(vertex,edges)\n",
    "M=createMatrix(vertex)\n",
    "printMatrix(M)\n",
    "Matrix = addEdges(data,M)\n",
    "print()\n",
    "printMatrix(Matrix)"
   ]
  },
  {
   "cell_type": "markdown",
   "id": "82ee2840",
   "metadata": {},
   "source": [
    "# Adjacency List"
   ]
  },
  {
   "cell_type": "code",
   "execution_count": 14,
   "id": "4f187dd3",
   "metadata": {},
   "outputs": [
    {
     "name": "stdout",
     "output_type": "stream",
     "text": [
      "[[6, 9], [0, 1], [0, 2], [1, 2], [1, 3], [2, 3], [3, 4], [4, 5], [4, 0], [4, 1]]\n",
      "6 9\n",
      "{0: [1, 2], 1: [2, 3], 2: [3], 3: [4], 4: [5, 0, 1], 5: []}\n"
     ]
    }
   ],
   "source": [
    "def readGraphData(file):\n",
    "    f=open(file,\"r\")\n",
    "\n",
    "    graph=[]\n",
    "\n",
    "    for line in f.readlines():\n",
    "        row=[]\n",
    "        row.append(int(line.split()[0]))\n",
    "        row.append(int(line.split()[1]))\n",
    "        graph.append(row)\n",
    "    return graph\n",
    "\n",
    "\n",
    "data = readGraphData(\"graph.txt\")\n",
    "print(data)\n",
    "vertex=data[0][0]\n",
    "edges=data[0][1]\n",
    "print(vertex,edges)\n",
    "\n",
    "adj=dict()\n",
    "\n",
    "for i in range(vertex):\n",
    "    adj[i]=[]\n",
    "#print(adj)\n",
    "\n",
    "for e in range(1,len(data),1):\n",
    "    u=data[e][0]\n",
    "    v=data[e][1]\n",
    "    adj[u].append(v)\n",
    "    #adj[v].append(u)\n",
    "print(adj)"
   ]
  }
 ],
 "metadata": {
  "kernelspec": {
   "display_name": "Python 3 (ipykernel)",
   "language": "python",
   "name": "python3"
  },
  "language_info": {
   "codemirror_mode": {
    "name": "ipython",
    "version": 3
   },
   "file_extension": ".py",
   "mimetype": "text/x-python",
   "name": "python",
   "nbconvert_exporter": "python",
   "pygments_lexer": "ipython3",
   "version": "3.9.13"
  }
 },
 "nbformat": 4,
 "nbformat_minor": 5
}
