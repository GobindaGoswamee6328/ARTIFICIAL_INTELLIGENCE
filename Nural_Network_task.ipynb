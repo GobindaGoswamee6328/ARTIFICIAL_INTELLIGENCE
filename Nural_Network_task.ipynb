{
 "cells": [
  {
   "cell_type": "code",
   "execution_count": 1,
   "id": "44dad912",
   "metadata": {},
   "outputs": [
    {
     "name": "stdout",
     "output_type": "stream",
     "text": [
      "i1 : 3\n",
      "i1 : 2\n",
      "w1 : 4\n",
      "w2 : 5\n",
      "w3 : 7\n",
      "w4 : 1\n",
      "i1, i2, i3 :  [3.0, 2.0, 1.9999938558235182]\n",
      "w1, w2, w3, w4, w5, w6 :  [4.0, 5.0, 7.0, 1.0, 0.9999999999981204, 0.9999938558253978]\n"
     ]
    }
   ],
   "source": [
    "import math\n",
    "\n",
    "\n",
    "node = []\n",
    "edge = []\n",
    "\n",
    "def AddNode(nodeValue):\n",
    "    node.append(nodeValue)\n",
    "\n",
    "def AddEdge(edgeValue):\n",
    "    edge.append(edgeValue)\n",
    "\n",
    "\n",
    "def funMethod(data):\n",
    "    g = 1/(1+math.exp(-data))\n",
    "    return g\n",
    "\n",
    "\n",
    "#Add Node,\n",
    "AddNode(float(input(\"i1 : \")))\n",
    "AddNode(float(input(\"i1 : \")))\n",
    "\n",
    "#AddEdge,\n",
    "AddEdge(float(input(\"w1 : \")))\n",
    "AddEdge(float(input(\"w2 : \")))\n",
    "AddEdge(float(input(\"w3 : \")))\n",
    "AddEdge(float(input(\"w4 : \")))\n",
    "\n",
    "h1 = (node[0]*edge[0]) + (node[0]*edge[1])\n",
    "h2 = (node[1]*edge[1]) + (node[1]*edge[3])\n",
    "\n",
    "funh1 = funMethod(h1)\n",
    "funh2 = funMethod(h2)\n",
    "finalNode = funh1+funh2\n",
    "AddNode(finalNode)\n",
    "AddEdge(funh1)\n",
    "AddEdge(funh2)\n",
    "\n",
    "print(\"i1, i2, i3 : \", node)\n",
    "print(\"w1, w2, w3, w4, w5, w6 : \", edge)\n"
   ]
  }
 ],
 "metadata": {
  "kernelspec": {
   "display_name": "Python 3 (ipykernel)",
   "language": "python",
   "name": "python3"
  },
  "language_info": {
   "codemirror_mode": {
    "name": "ipython",
    "version": 3
   },
   "file_extension": ".py",
   "mimetype": "text/x-python",
   "name": "python",
   "nbconvert_exporter": "python",
   "pygments_lexer": "ipython3",
   "version": "3.11.4"
  }
 },
 "nbformat": 4,
 "nbformat_minor": 5
}
