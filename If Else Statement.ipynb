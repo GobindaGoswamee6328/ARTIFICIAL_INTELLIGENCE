{
 "cells": [
  {
   "cell_type": "markdown",
   "id": "d54ce47b",
   "metadata": {},
   "source": [
    "# Pass-Fail:"
   ]
  },
  {
   "cell_type": "code",
   "execution_count": 1,
   "id": "af4fbd6b",
   "metadata": {},
   "outputs": [
    {
     "name": "stdout",
     "output_type": "stream",
     "text": [
      "Pass\n"
     ]
    }
   ],
   "source": [
    "mark = 70\n",
    "\n",
    "if mark>=33:\n",
    "    print(\"Pass\")\n",
    "else:\n",
    "   print(\"Fail\")"
   ]
  },
  {
   "cell_type": "markdown",
   "id": "29ee7c99",
   "metadata": {},
   "source": [
    "# Even-Odd:"
   ]
  },
  {
   "cell_type": "code",
   "execution_count": 2,
   "id": "6c7edd52",
   "metadata": {},
   "outputs": [
    {
     "name": "stdout",
     "output_type": "stream",
     "text": [
      "Even\n"
     ]
    }
   ],
   "source": [
    "num = 8\n",
    "\n",
    "if num %2==0:\n",
    "    print(\"Even\")\n",
    "else:\n",
    "    print(\"Odd\")"
   ]
  },
  {
   "cell_type": "markdown",
   "id": "dd3a8a9b",
   "metadata": {},
   "source": [
    "# Largest-Smallest:"
   ]
  },
  {
   "cell_type": "code",
   "execution_count": 3,
   "id": "ecb0fdc1",
   "metadata": {},
   "outputs": [
    {
     "name": "stdout",
     "output_type": "stream",
     "text": [
      "num1\n"
     ]
    }
   ],
   "source": [
    "num1 = 20\n",
    "num2 = 10\n",
    "\n",
    "if num1>num2:\n",
    "    print(\"num1\")\n",
    "else:\n",
    "    print(\"num2\")"
   ]
  }
 ],
 "metadata": {
  "kernelspec": {
   "display_name": "Python 3 (ipykernel)",
   "language": "python",
   "name": "python3"
  },
  "language_info": {
   "codemirror_mode": {
    "name": "ipython",
    "version": 3
   },
   "file_extension": ".py",
   "mimetype": "text/x-python",
   "name": "python",
   "nbconvert_exporter": "python",
   "pygments_lexer": "ipython3",
   "version": "3.11.4"
  }
 },
 "nbformat": 4,
 "nbformat_minor": 5
}
