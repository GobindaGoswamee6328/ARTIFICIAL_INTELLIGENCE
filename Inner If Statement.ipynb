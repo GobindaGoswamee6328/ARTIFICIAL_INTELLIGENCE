{
 "cells": [
  {
   "cell_type": "markdown",
   "id": "c6bf7475",
   "metadata": {},
   "source": [
    "# It also called Nested If Statement\n"
   ]
  },
  {
   "cell_type": "code",
   "execution_count": 1,
   "id": "b623dbfc",
   "metadata": {},
   "outputs": [
    {
     "name": "stdout",
     "output_type": "stream",
     "text": [
      "60\n"
     ]
    }
   ],
   "source": [
    "num1 = 30\n",
    "num2 = 40\n",
    "num3 = 60\n",
    "\n",
    "if num1 > num2:\n",
    "     if num1 > num3:\n",
    "         print(num1)\n",
    "     else:\n",
    "         print(num3)\n",
    "\n",
    "if num2 > num1:\n",
    "     if num2 > num3:\n",
    "         print(num2)\n",
    "     else:\n",
    "         print(num3)"
   ]
  }
 ],
 "metadata": {
  "kernelspec": {
   "display_name": "Python 3 (ipykernel)",
   "language": "python",
   "name": "python3"
  },
  "language_info": {
   "codemirror_mode": {
    "name": "ipython",
    "version": 3
   },
   "file_extension": ".py",
   "mimetype": "text/x-python",
   "name": "python",
   "nbconvert_exporter": "python",
   "pygments_lexer": "ipython3",
   "version": "3.11.4"
  }
 },
 "nbformat": 4,
 "nbformat_minor": 5
}
