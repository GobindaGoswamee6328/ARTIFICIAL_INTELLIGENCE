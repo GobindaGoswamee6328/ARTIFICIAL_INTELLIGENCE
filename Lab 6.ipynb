{
 "cells": [
  {
   "cell_type": "markdown",
   "id": "f19c488a",
   "metadata": {},
   "source": [
    "# Class and Object:\n",
    "1: Stack\n",
    "2: Queue\n",
    "3: Priority Queue"
   ]
  },
  {
   "cell_type": "code",
   "execution_count": 8,
   "id": "9df507f3",
   "metadata": {},
   "outputs": [
    {
     "name": "stdout",
     "output_type": "stream",
     "text": [
      "100 Simanta\n",
      "200 Simanta\n"
     ]
    }
   ],
   "source": [
    "class Person:\n",
    "    def __init__(self,Id,name):\n",
    "        self.Id = Id\n",
    "        self.name = name\n",
    "        \n",
    "    def getId(self):\n",
    "        return self.Id\n",
    "    \n",
    "    def setId(self,Id):\n",
    "        self.Id=Id\n",
    "        \n",
    "    def __str__(self):\n",
    "        return str(self.Id)+\" \"+self.name\n",
    "    \n",
    "\n",
    "p = Person(100,\"Simanta\")\n",
    "print(p)\n",
    "p.setId(200)\n",
    "print(p)\n",
    "\n"
   ]
  },
  {
   "cell_type": "code",
   "execution_count": 14,
   "id": "1f722365",
   "metadata": {},
   "outputs": [
    {
     "name": "stdout",
     "output_type": "stream",
     "text": [
      "300 Joy 3.46\n"
     ]
    }
   ],
   "source": [
    "class student:\n",
    "    def __init__(self,Id,name,cgpa):\n",
    "        self.Id = Id\n",
    "        self.name = name\n",
    "        self.cgpa = cgpa\n",
    "        \n",
    "    def getId(self):\n",
    "        return self.Id\n",
    "    \n",
    "    def setId(self,Id):\n",
    "        self.Id=Id\n",
    "        \n",
    "        \n",
    "    def getname(self):\n",
    "        return self.name\n",
    "    \n",
    "    def setId(self,name):\n",
    "        self.name=name\n",
    "        \n",
    "       \n",
    "    def getcgpa(self):\n",
    "        return self.cgpa\n",
    "    \n",
    "    def setId(self,cgpa):\n",
    "        self.cgpa=cgpa\n",
    "        \n",
    "        \n",
    "    def __str__(self):\n",
    "        return str(self.Id)+\" \"+self.name+\" \"+str(self.cgpa)\n",
    "    \n",
    "\n",
    "s1 = student(300,\"Joy\",3.46)\n",
    "print(s1)\n",
    "    "
   ]
  },
  {
   "cell_type": "code",
   "execution_count": 19,
   "id": "a2d0c085",
   "metadata": {},
   "outputs": [
    {
     "name": "stdout",
     "output_type": "stream",
     "text": [
      "150 Gobinda 35000\n"
     ]
    }
   ],
   "source": [
    "class Employee:\n",
    "    def __init__(self,Id,name,salary):\n",
    "        self.Id = Id\n",
    "        self.name = name\n",
    "        self.salary = salary\n",
    "        \n",
    "    def getId(self):\n",
    "        return self.Id\n",
    "    \n",
    "    def setId(self,Id):\n",
    "        self.Id = Id\n",
    "        \n",
    "    def __str__(self):\n",
    "        return str(self.Id)+\" \"+self.name+\" \"+str(self.salary)\n",
    "\n",
    "E1 = Employee(150,\"Gobinda\",35000)\n",
    "print(E1)"
   ]
  },
  {
   "cell_type": "markdown",
   "id": "5c35d964",
   "metadata": {},
   "source": [
    "# Stack "
   ]
  },
  {
   "cell_type": "code",
   "execution_count": 20,
   "id": "98c3a049",
   "metadata": {},
   "outputs": [
    {
     "name": "stdout",
     "output_type": "stream",
     "text": [
      "[10, 20, 30]\n"
     ]
    }
   ],
   "source": [
    "stack = []\n",
    "\n",
    "stack.append(10)\n",
    "stack.append(20)\n",
    "stack.append(30)\n",
    "\n",
    "print(stack)"
   ]
  },
  {
   "cell_type": "code",
   "execution_count": 21,
   "id": "084ba94e",
   "metadata": {},
   "outputs": [
    {
     "name": "stdout",
     "output_type": "stream",
     "text": [
      "30\n",
      "[10, 20]\n"
     ]
    }
   ],
   "source": [
    "a = stack.pop()\n",
    "print(a)\n",
    "print(stack)"
   ]
  },
  {
   "cell_type": "code",
   "execution_count": 46,
   "id": "bda2f627",
   "metadata": {
    "scrolled": true
   },
   "outputs": [
    {
     "name": "stdout",
     "output_type": "stream",
     "text": [
      "  10 20\n"
     ]
    }
   ],
   "source": [
    "class Stack:\n",
    "    \n",
    "    def __init__(self):\n",
    "        self.List = []\n",
    "        self.size = 0\n",
    "        \n",
    "    def __str__(self):\n",
    "        s = \" \"\n",
    "        for i in range(self.size):\n",
    "            s = s + \" \"+str(self.List[i])\n",
    "        return s\n",
    "    \n",
    "    def push(self,item):\n",
    "        self.List.append(item)\n",
    "        self.size = self.size+1\n",
    "        \n",
    "      \n",
    "      \n",
    "s = Stack()\n",
    "s.push(10)\n",
    "s.push(20)\n",
    "print(s)\n",
    "        "
   ]
  }
 ],
 "metadata": {
  "kernelspec": {
   "display_name": "Python 3 (ipykernel)",
   "language": "python",
   "name": "python3"
  },
  "language_info": {
   "codemirror_mode": {
    "name": "ipython",
    "version": 3
   },
   "file_extension": ".py",
   "mimetype": "text/x-python",
   "name": "python",
   "nbconvert_exporter": "python",
   "pygments_lexer": "ipython3",
   "version": "3.11.4"
  }
 },
 "nbformat": 4,
 "nbformat_minor": 5
}
