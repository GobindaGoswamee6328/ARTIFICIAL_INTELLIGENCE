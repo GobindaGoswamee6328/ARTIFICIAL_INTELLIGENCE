{
 "cells": [
  {
   "cell_type": "markdown",
   "id": "753c5554",
   "metadata": {},
   "source": [
    "# If elseif elseif else(Grading System)"
   ]
  },
  {
   "cell_type": "code",
   "execution_count": 1,
   "id": "03bd7ddb",
   "metadata": {},
   "outputs": [
    {
     "name": "stdout",
     "output_type": "stream",
     "text": [
      "A+\n"
     ]
    }
   ],
   "source": [
    "marks = 92\n",
    "\n",
    "if marks>=90:\n",
    "  print(\"A+\")\n",
    "\n",
    "elif marks>=85 and marks<90:\n",
    " print(\"A\")\n",
    "\n",
    "elif marks>=80 and marks<85:\n",
    " print(\"B+\")\n",
    "\n",
    "elif marks>=75 and marks<80:\n",
    " print(\"B\")\n",
    "\n",
    "elif marks>=70 and marks<75:\n",
    " print(\"C+\")\n",
    "\n",
    "elif marks>=65 and marks<70:\n",
    " print(\"C\")\n",
    "\n",
    "elif marks>=60 and marks<65:\n",
    " print(\"D+\")\n",
    "\n",
    "elif marks>=50 and marks<60:\n",
    " print(\"D\")\n",
    "\n",
    "else:\n",
    " print(\"Failed\")\n"
   ]
  },
  {
   "cell_type": "code",
   "execution_count": null,
   "id": "af140ebe",
   "metadata": {},
   "outputs": [],
   "source": []
  }
 ],
 "metadata": {
  "kernelspec": {
   "display_name": "Python 3 (ipykernel)",
   "language": "python",
   "name": "python3"
  },
  "language_info": {
   "codemirror_mode": {
    "name": "ipython",
    "version": 3
   },
   "file_extension": ".py",
   "mimetype": "text/x-python",
   "name": "python",
   "nbconvert_exporter": "python",
   "pygments_lexer": "ipython3",
   "version": "3.11.4"
  }
 },
 "nbformat": 4,
 "nbformat_minor": 5
}
